{
  "cells": [
    {
      "cell_type": "markdown",
      "metadata": {
        "colab_type": "text",
        "id": "view-in-github"
      },
      "source": [
        "<a href=\"https://colab.research.google.com/github/LipeSilva83/Alura_Store_BR/blob/main/AluraStoreBr.ipynb\" target=\"_parent\"><img src=\"https://colab.research.google.com/assets/colab-badge.svg\" alt=\"Open In Colab\"/></a>"
      ]
    },
    {
      "cell_type": "markdown",
      "metadata": {
        "id": "RhEdWd9YUR6H"
      },
      "source": [
        "### Importação dos dados\n",
        "\n"
      ]
    },
    {
      "cell_type": "code",
      "execution_count": 3,
      "metadata": {
        "colab": {
          "base_uri": "https://localhost:8080/",
          "height": 258
        },
        "id": "T3EvaeQ_INIL",
        "outputId": "d506bd80-5590-410f-957b-b8c0ef6ba6c3"
      },
      "outputs": [
        {
          "data": {
            "text/html": [
              "<div>\n",
              "<style scoped>\n",
              "    .dataframe tbody tr th:only-of-type {\n",
              "        vertical-align: middle;\n",
              "    }\n",
              "\n",
              "    .dataframe tbody tr th {\n",
              "        vertical-align: top;\n",
              "    }\n",
              "\n",
              "    .dataframe thead th {\n",
              "        text-align: right;\n",
              "    }\n",
              "</style>\n",
              "<table border=\"1\" class=\"dataframe\">\n",
              "  <thead>\n",
              "    <tr style=\"text-align: right;\">\n",
              "      <th></th>\n",
              "      <th>Produto</th>\n",
              "      <th>Categoria do Produto</th>\n",
              "      <th>Preço</th>\n",
              "      <th>Frete</th>\n",
              "      <th>Data da Compra</th>\n",
              "      <th>Vendedor</th>\n",
              "      <th>Local da compra</th>\n",
              "      <th>Avaliação da compra</th>\n",
              "      <th>Tipo de pagamento</th>\n",
              "      <th>Quantidade de parcelas</th>\n",
              "      <th>lat</th>\n",
              "      <th>lon</th>\n",
              "    </tr>\n",
              "  </thead>\n",
              "  <tbody>\n",
              "    <tr>\n",
              "      <th>0</th>\n",
              "      <td>Assistente virtual</td>\n",
              "      <td>eletronicos</td>\n",
              "      <td>219.08</td>\n",
              "      <td>9.249790</td>\n",
              "      <td>16/01/2021</td>\n",
              "      <td>Pedro Gomes</td>\n",
              "      <td>SP</td>\n",
              "      <td>4</td>\n",
              "      <td>cartao_credito</td>\n",
              "      <td>8</td>\n",
              "      <td>-22.19</td>\n",
              "      <td>-48.79</td>\n",
              "    </tr>\n",
              "    <tr>\n",
              "      <th>1</th>\n",
              "      <td>Mesa de jantar</td>\n",
              "      <td>moveis</td>\n",
              "      <td>256.35</td>\n",
              "      <td>11.234305</td>\n",
              "      <td>18/05/2022</td>\n",
              "      <td>Beatriz Moraes</td>\n",
              "      <td>RJ</td>\n",
              "      <td>1</td>\n",
              "      <td>cartao_credito</td>\n",
              "      <td>4</td>\n",
              "      <td>-22.25</td>\n",
              "      <td>-42.66</td>\n",
              "    </tr>\n",
              "    <tr>\n",
              "      <th>2</th>\n",
              "      <td>Jogo de tabuleiro</td>\n",
              "      <td>brinquedos</td>\n",
              "      <td>279.51</td>\n",
              "      <td>21.262681</td>\n",
              "      <td>15/03/2021</td>\n",
              "      <td>João Souza</td>\n",
              "      <td>DF</td>\n",
              "      <td>1</td>\n",
              "      <td>cartao_credito</td>\n",
              "      <td>1</td>\n",
              "      <td>-15.83</td>\n",
              "      <td>-47.86</td>\n",
              "    </tr>\n",
              "    <tr>\n",
              "      <th>3</th>\n",
              "      <td>Micro-ondas</td>\n",
              "      <td>eletrodomesticos</td>\n",
              "      <td>1009.99</td>\n",
              "      <td>54.667344</td>\n",
              "      <td>03/05/2022</td>\n",
              "      <td>João Souza</td>\n",
              "      <td>RS</td>\n",
              "      <td>4</td>\n",
              "      <td>boleto</td>\n",
              "      <td>1</td>\n",
              "      <td>-30.17</td>\n",
              "      <td>-53.50</td>\n",
              "    </tr>\n",
              "    <tr>\n",
              "      <th>4</th>\n",
              "      <td>Cadeira de escritório</td>\n",
              "      <td>moveis</td>\n",
              "      <td>446.99</td>\n",
              "      <td>26.964689</td>\n",
              "      <td>07/11/2020</td>\n",
              "      <td>Larissa Alves</td>\n",
              "      <td>MG</td>\n",
              "      <td>5</td>\n",
              "      <td>boleto</td>\n",
              "      <td>1</td>\n",
              "      <td>-18.10</td>\n",
              "      <td>-44.38</td>\n",
              "    </tr>\n",
              "  </tbody>\n",
              "</table>\n",
              "</div>"
            ],
            "text/plain": [
              "                 Produto Categoria do Produto    Preço      Frete  \\\n",
              "0     Assistente virtual          eletronicos   219.08   9.249790   \n",
              "1         Mesa de jantar               moveis   256.35  11.234305   \n",
              "2      Jogo de tabuleiro           brinquedos   279.51  21.262681   \n",
              "3            Micro-ondas     eletrodomesticos  1009.99  54.667344   \n",
              "4  Cadeira de escritório               moveis   446.99  26.964689   \n",
              "\n",
              "  Data da Compra        Vendedor Local da compra  Avaliação da compra  \\\n",
              "0     16/01/2021     Pedro Gomes              SP                    4   \n",
              "1     18/05/2022  Beatriz Moraes              RJ                    1   \n",
              "2     15/03/2021      João Souza              DF                    1   \n",
              "3     03/05/2022      João Souza              RS                    4   \n",
              "4     07/11/2020   Larissa Alves              MG                    5   \n",
              "\n",
              "  Tipo de pagamento  Quantidade de parcelas    lat    lon  \n",
              "0    cartao_credito                       8 -22.19 -48.79  \n",
              "1    cartao_credito                       4 -22.25 -42.66  \n",
              "2    cartao_credito                       1 -15.83 -47.86  \n",
              "3            boleto                       1 -30.17 -53.50  \n",
              "4            boleto                       1 -18.10 -44.38  "
            ]
          },
          "execution_count": 3,
          "metadata": {},
          "output_type": "execute_result"
        }
      ],
      "source": [
        "import pandas as pd\n",
        "\n",
        "url = \"https://raw.githubusercontent.com/alura-es-cursos/challenge1-data-science/refs/heads/main/base-de-dados-challenge-1/loja_1.csv\"\n",
        "url2 = \"https://raw.githubusercontent.com/alura-es-cursos/challenge1-data-science/refs/heads/main/base-de-dados-challenge-1/loja_2.csv\"\n",
        "url3 = \"https://raw.githubusercontent.com/alura-es-cursos/challenge1-data-science/refs/heads/main/base-de-dados-challenge-1/loja_3.csv\"\n",
        "url4 = \"https://raw.githubusercontent.com/alura-es-cursos/challenge1-data-science/refs/heads/main/base-de-dados-challenge-1/loja_4.csv\"\n",
        "\n",
        "loja1 = pd.read_csv(url)\n",
        "loja2 = pd.read_csv(url2)\n",
        "loja3 = pd.read_csv(url3)\n",
        "loja4 = pd.read_csv(url4)\n",
        "\n",
        "loja1.head()"
      ]
    },
    {
      "cell_type": "markdown",
      "metadata": {
        "id": "X62IW3KFUIYm"
      },
      "source": [
        "#1. Análise do faturamento\n"
      ]
    },
    {
      "cell_type": "code",
      "execution_count": 4,
      "metadata": {
        "colab": {
          "base_uri": "https://localhost:8080/"
        },
        "id": "xykobSftV64I",
        "outputId": "8bb34c11-aef0-4a60-ebdd-b525148e8005"
      },
      "outputs": [
        {
          "name": "stdout",
          "output_type": "stream",
          "text": [
            "loja1: 1534509.12\n",
            "loja2: 1488459.06\n",
            "loja3: 1464025.03\n",
            "loja4: 1384497.58\n"
          ]
        }
      ],
      "source": [
        "faturamentos = {\n",
        "    'loja1': float(sum(loja1['Preço'])),\n",
        "    'loja2': float(sum(loja2['Preço'])),\n",
        "    'loja3': float(sum(loja3['Preço'])),\n",
        "    'loja4': float(sum(loja4['Preço'])),\n",
        "}\n",
        "\n",
        "for loja, faturamento in faturamentos.items():\n",
        "    print(f'{loja}: {faturamento:.2f}')\n",
        "\n"
      ]
    },
    {
      "cell_type": "code",
      "execution_count": 7,
      "metadata": {
        "colab": {
          "base_uri": "https://localhost:8080/",
          "height": 607
        },
        "id": "6P_iehCq161v",
        "outputId": "5fffb6c6-1470-42e1-9591-df9800b5861d"
      },
      "outputs": [
        {
          "data": {
            "image/png": "[encoded data removed]",
            "text/plain": [
              "<Figure size 800x400 with 1 Axes>"
            ]
          },
          "metadata": {},
          "output_type": "display_data"
        }
      ],
      "source": [
        "import matplotlib.pyplot as plt\n",
        "\n",
        "faturamentos = {\n",
        "    'loja1': 1534509.12,\n",
        "    'loja2': 1488459.06,\n",
        "    'loja3': 1464025.03,\n",
        "    'loja4': 1384497.58,\n",
        "}\n",
        "\n",
        "nomes_lojas = list(faturamentos.keys())\n",
        "valores_faturamento = list(faturamentos.values())\n",
        "cores = ['skyblue', 'lightcoral', 'lightgreen', 'lightsalmon']\n",
        "\n",
        "plt.figure(figsize=(8, 4))\n",
        "plt.pie(valores_faturamento, labels=nomes_lojas, autopct='%1.1f%%', startangle=140, colors=cores)\n",
        "\n",
        "plt.title('Faturamento Total por Loja')\n",
        "\n",
        "plt.show()"
      ]
    },
    {
      "cell_type": "code",
      "execution_count": 8,
      "metadata": {
        "colab": {
          "base_uri": "https://localhost:8080/"
        },
        "id": "dQ1uYSjCuacr",
        "outputId": "39e3a222-90e9-430b-9812-50faa31e1690"
      },
      "outputs": [
        {
          "name": "stdout",
          "output_type": "stream",
          "text": [
            "Maior faturamento foi de: 1534509.12 da loja1\n"
          ]
        }
      ],
      "source": [
        "maior_faturamento_loja = max(faturamentos.items(), key=lambda x: x[1])\n",
        "maior_faturamento = maior_faturamento_loja[1]\n",
        "nome_da_loja = maior_faturamento_loja[0]\n",
        "print(f'Maior faturamento foi de: {maior_faturamento:.2f} da {nome_da_loja}')"
      ]
    },
    {
      "cell_type": "code",
      "execution_count": 9,
      "metadata": {
        "colab": {
          "base_uri": "https://localhost:8080/"
        },
        "id": "KDyr8E71V3m-",
        "outputId": "9ce1e02f-a835-448c-8440-61c5666f1f07"
      },
      "outputs": [
        {
          "name": "stdout",
          "output_type": "stream",
          "text": [
            "Menor faturamento foi de: 1384497.58 da loja4\n"
          ]
        }
      ],
      "source": [
        "menor_faturamento_loja = min(faturamentos.items(), key=lambda x: x[1])\n",
        "menor_faturamento = menor_faturamento_loja[1]\n",
        "nome_da_loja = menor_faturamento_loja[0]\n",
        "print(f'Menor faturamento foi de: {menor_faturamento:.2f} da {nome_da_loja}')"
      ]
    },
    {
      "cell_type": "markdown",
      "metadata": {
        "id": "2V_vcAPzWZmR"
      },
      "source": [
        "# 2. Vendas por Categoria\n"
      ]
    },
    {
      "cell_type": "code",
      "execution_count": 10,
      "metadata": {
        "colab": {
          "base_uri": "https://localhost:8080/"
        },
        "id": "A34YupIuYhfF",
        "outputId": "a37afce1-3c23-4b86-ecc8-d7f65ca9157f"
      },
      "outputs": [
        {
          "name": "stdout",
          "output_type": "stream",
          "text": [
            "Categoria do Produto\n",
            "brinquedos                23993.78\n",
            "eletrodomesticos         484913.36\n",
            "eletronicos              572659.23\n",
            "esporte e lazer           52387.55\n",
            "instrumentos musicais    121731.69\n",
            "livros                    11713.92\n",
            "moveis                   250178.11\n",
            "utilidades domesticas     16931.48\n",
            "Name: Preço, dtype: float64\n"
          ]
        }
      ],
      "source": [
        "vendas_por_categoria1 = loja1.groupby('Categoria do Produto')['Preço'].sum()\n",
        "print(vendas_por_categoria1)"
      ]
    },
    {
      "cell_type": "code",
      "execution_count": 11,
      "metadata": {
        "colab": {
          "base_uri": "https://localhost:8080/"
        },
        "id": "yZR6cOjXYSk1",
        "outputId": "f8293429-9727-4e96-9474-7b11ded7d370"
      },
      "outputs": [
        {
          "name": "stdout",
          "output_type": "stream",
          "text": [
            "Categoria do Produto\n",
            "brinquedos                21262.21\n",
            "eletrodomesticos         464758.13\n",
            "eletronicos              547773.71\n",
            "esporte e lazer           46326.09\n",
            "instrumentos musicais    139987.03\n",
            "livros                    13454.35\n",
            "moveis                   235234.68\n",
            "utilidades domesticas     19662.86\n",
            "Name: Preço, dtype: float64\n"
          ]
        }
      ],
      "source": [
        "vendas_por_categoria2 = loja2.groupby('Categoria do Produto')['Preço'].sum()\n",
        "print(vendas_por_categoria2)"
      ]
    },
    {
      "cell_type": "code",
      "execution_count": 12,
      "metadata": {
        "colab": {
          "base_uri": "https://localhost:8080/"
        },
        "id": "UFquMpIi78Vs",
        "outputId": "fe6321d7-3379-47ef-be30-4f883919e78e"
      },
      "outputs": [
        {
          "name": "stdout",
          "output_type": "stream",
          "text": [
            "Categoria do Produto\n",
            "brinquedos                21262.21\n",
            "eletrodomesticos         464758.13\n",
            "eletronicos              547773.71\n",
            "esporte e lazer           46326.09\n",
            "instrumentos musicais    139987.03\n",
            "livros                    13454.35\n",
            "moveis                   235234.68\n",
            "utilidades domesticas     19662.86\n",
            "Name: Preço, dtype: float64\n"
          ]
        }
      ],
      "source": [
        "vendas_por_categoria3 = loja3.groupby('Categoria do Produto')['Preço'].sum()\n",
        "print(vendas_por_categoria2)"
      ]
    },
    {
      "cell_type": "code",
      "execution_count": 13,
      "metadata": {
        "colab": {
          "base_uri": "https://localhost:8080/"
        },
        "id": "u017MY0y78ob",
        "outputId": "ccb5783a-c0a2-4e39-cb7f-65d621124590"
      },
      "outputs": [
        {
          "name": "stdout",
          "output_type": "stream",
          "text": [
            "Categoria do Produto\n",
            "brinquedos                21262.21\n",
            "eletrodomesticos         464758.13\n",
            "eletronicos              547773.71\n",
            "esporte e lazer           46326.09\n",
            "instrumentos musicais    139987.03\n",
            "livros                    13454.35\n",
            "moveis                   235234.68\n",
            "utilidades domesticas     19662.86\n",
            "Name: Preço, dtype: float64\n"
          ]
        }
      ],
      "source": [
        "vendas_por_categoria4 = loja4.groupby('Categoria do Produto')['Preço'].sum()\n",
        "print(vendas_por_categoria2)"
      ]
    },
    {
      "cell_type": "markdown",
      "metadata": {
        "id": "Rq6tU_xSY3jk"
      },
      "source": [
        "# 3. Média de Avaliação das Lojas"
      ]
    },
    {
      "cell_type": "code",
      "execution_count": 14,
      "metadata": {
        "colab": {
          "base_uri": "https://localhost:8080/"
        },
        "id": "bh3jjjJwY5MU",
        "outputId": "779ae9d9-2761-4455-a8d7-3ec9769ed559"
      },
      "outputs": [
        {
          "name": "stdout",
          "output_type": "stream",
          "text": [
            "A média de avaliação da loja 1 é: 3.98\n"
          ]
        }
      ],
      "source": [
        "media_aval_loja1 = (sum(loja1['Avaliação da compra'])) / len(loja1['Avaliação da compra'])\n",
        "print(f'A média de avaliação da loja 1 é: {media_aval_loja1:.2f}')"
      ]
    },
    {
      "cell_type": "code",
      "execution_count": 15,
      "metadata": {
        "colab": {
          "base_uri": "https://localhost:8080/"
        },
        "id": "I0KkjPoTY88F",
        "outputId": "4ec98d28-e53f-4f53-9f81-853c7df90891"
      },
      "outputs": [
        {
          "name": "stdout",
          "output_type": "stream",
          "text": [
            "A média de avaliação da loja 2 é: 4.04\n"
          ]
        }
      ],
      "source": [
        "media_aval_loja2 = (sum(loja2['Avaliação da compra'])) / len(loja2['Avaliação da compra'])\n",
        "print(f'A média de avaliação da loja 2 é: {media_aval_loja2:.2f}')"
      ]
    },
    {
      "cell_type": "code",
      "execution_count": 16,
      "metadata": {
        "colab": {
          "base_uri": "https://localhost:8080/"
        },
        "id": "WBfeHhu7ADq2",
        "outputId": "94e28420-0631-41b9-f7e1-c532a7b36e5e"
      },
      "outputs": [
        {
          "name": "stdout",
          "output_type": "stream",
          "text": [
            "A média de avaliação da loja 3 é: 4.05\n"
          ]
        }
      ],
      "source": [
        "media_aval_loja3 = (sum(loja3['Avaliação da compra'])) / len(loja3['Avaliação da compra'])\n",
        "print(f'A média de avaliação da loja 3 é: {media_aval_loja3:.2f}')"
      ]
    },
    {
      "cell_type": "code",
      "execution_count": 17,
      "metadata": {
        "colab": {
          "base_uri": "https://localhost:8080/"
        },
        "id": "jDpOUHt9ADPp",
        "outputId": "7492b724-0569-494c-f8d2-41f063ff05b6"
      },
      "outputs": [
        {
          "name": "stdout",
          "output_type": "stream",
          "text": [
            "A média de avaliação da loja 4 é: 4.00\n"
          ]
        }
      ],
      "source": [
        "media_aval_loja4 = (sum(loja4['Avaliação da compra'])) / len(loja4['Avaliação da compra'])\n",
        "print(f'A média de avaliação da loja 4 é: {media_aval_loja4:.2f}')"
      ]
    },
    {
      "cell_type": "code",
      "execution_count": 18,
      "metadata": {
        "colab": {
          "base_uri": "https://localhost:8080/"
        },
        "id": "1pOQThyPAwrv",
        "outputId": "92f59c9e-4cee-468e-b049-8b5b6df7fbb8"
      },
      "outputs": [
        {
          "name": "stdout",
          "output_type": "stream",
          "text": [
            "['loja1', 'loja2', 'loja3', 'loja4']\n",
            "['3.98', '4.04', '4.05', '4.00']\n"
          ]
        }
      ],
      "source": [
        "lista_medias = [media_aval_loja1, media_aval_loja2, media_aval_loja3, media_aval_loja4]\n",
        "lista_lojas = ['loja1', 'loja2', 'loja3', 'loja4']\n",
        "print(lista_lojas)\n",
        "print([f'{media:.2f}' for media in lista_medias])"
      ]
    },
    {
      "cell_type": "code",
      "execution_count": 21,
      "metadata": {
        "colab": {
          "base_uri": "https://localhost:8080/",
          "height": 488
        },
        "id": "Ij1UUPuPBjmM",
        "outputId": "458d5586-da5f-401b-f354-b84d56944098"
      },
      "outputs": [
        {
          "data": {
            "image/png": "[encoded data removed]",
            "text/plain": [
              "<Figure size 600x300 with 1 Axes>"
            ]
          },
          "metadata": {},
          "output_type": "display_data"
        }
      ],
      "source": [
        "lista_medias = [media_aval_loja1, media_aval_loja2, media_aval_loja3, media_aval_loja4]\n",
        "lista_lojas = ['loja1', 'loja2', 'loja3', 'loja4']\n",
        "\n",
        "import matplotlib.pyplot as plt\n",
        "plt.figure(figsize=(6, 3))\n",
        "plt.bar(lista_lojas, lista_medias, color=['blue', 'green', 'red', 'purple'])\n",
        "plt.xlabel('Lojas')\n",
        "plt.ylabel('Média de Avaliação')\n",
        "plt.title('Média de Avaliação por Loja')\n",
        "plt.ylim(0, 7)\n",
        "\n",
        "for i, media in enumerate(lista_medias):\n",
        "    plt.text(i, media + 0.1, f'{media:.2f}', ha='center')\n",
        "\n",
        "plt.show()"
      ]
    },
    {
      "cell_type": "markdown",
      "metadata": {
        "id": "DmNp1KPBZCm-"
      },
      "source": [
        "# 4. Produtos Mais e Menos Vendidos"
      ]
    },
    {
      "cell_type": "markdown",
      "metadata": {
        "id": "zc5JYi6-M_Uk"
      },
      "source": [
        "Função para calcular a venda por categoria"
      ]
    },
    {
      "cell_type": "code",
      "execution_count": 20,
      "metadata": {
        "id": "qpN3WTVKMl5q"
      },
      "outputs": [],
      "source": [
        "def analisar_vendas(vendas_por_categoria, nome_loja):\n",
        "   \"\"\"\n",
        "    Analisa as vendas por categoria de uma loja para encontrar o produto mais e menos vendido.\n",
        "\n",
        "    Args:\n",
        "        vendas_por_categoria (dict): Um dicionário onde as chaves são os nomes dos produtos\n",
        "                                     e os valores são as quantidades vendidas.\n",
        "        nome_loja (str): O nome da loja para identificar na saída.\n",
        "\n",
        "    Returns:\n",
        "        tuple: Uma tupla contendo duas tuplas:\n",
        "               - A primeira tupla com o produto mais vendido e sua quantidade.\n",
        "               - A segunda tupla com o produto menos vendido e sua quantidade.\n",
        "    \"\"\"\n",
        "\n",
        "   if vendas_por_categoria.empty:\n",
        "    print(f\"Não há dados de vendas para a {nome_loja}.\")\n",
        "    return None, None\n",
        "\n",
        "   mais_vendido = max(vendas_por_categoria.items(), key=lambda x: x[1])\n",
        "   produto_mais_vendido = mais_vendido[0]\n",
        "   quantidade_mais_vendida = mais_vendido[1]\n",
        "\n",
        "   menos_vendido = min(vendas_por_categoria.items(), key=lambda x: x[1])\n",
        "   produto_menos_vendido = menos_vendido[0]\n",
        "   quantidade_menos_vendida = menos_vendido[1]\n",
        "\n",
        "   print(f'O produto mais vendido da {nome_loja} foi: {produto_mais_vendido} na quantidade de: {quantidade_mais_vendida:.0f}')\n",
        "   print(f'O produto menos vendido da {nome_loja} foi: {produto_menos_vendido} na quantidade de: {quantidade_menos_vendida:.0f}')\n",
        "\n",
        "   return (produto_mais_vendido, quantidade_mais_vendida), (produto_menos_vendido, quantidade_menos_vendida)"
      ]
    },
    {
      "cell_type": "markdown",
      "metadata": {
        "id": "P4klhLKRM8u0"
      },
      "source": [
        "*LOJA 1*"
      ]
    },
    {
      "cell_type": "code",
      "execution_count": 22,
      "metadata": {
        "colab": {
          "base_uri": "https://localhost:8080/"
        },
        "id": "J4211GdvMqdM",
        "outputId": "06527ff4-db76-44b7-d60b-6573ba2eb6ef"
      },
      "outputs": [
        {
          "name": "stdout",
          "output_type": "stream",
          "text": [
            "O produto mais vendido da loja1 foi: eletronicos na quantidade de: 572659\n",
            "O produto menos vendido da loja1 foi: livros na quantidade de: 11714\n"
          ]
        }
      ],
      "source": [
        "resultado_loja1 = analisar_vendas(vendas_por_categoria1, 'loja1')\n"
      ]
    },
    {
      "cell_type": "markdown",
      "metadata": {
        "id": "R0hBiAkVOLDI"
      },
      "source": [
        "*LOJA 2*"
      ]
    },
    {
      "cell_type": "code",
      "execution_count": 23,
      "metadata": {
        "colab": {
          "base_uri": "https://localhost:8080/"
        },
        "id": "Tu-hlriuONo1",
        "outputId": "8649bc27-e5c2-467f-af31-95d6065cac29"
      },
      "outputs": [
        {
          "name": "stdout",
          "output_type": "stream",
          "text": [
            "O produto mais vendido da loja2 foi: eletronicos na quantidade de: 547774\n",
            "O produto menos vendido da loja2 foi: livros na quantidade de: 13454\n"
          ]
        }
      ],
      "source": [
        "resultado_loja2 = analisar_vendas(vendas_por_categoria2, 'loja2')\n"
      ]
    },
    {
      "cell_type": "markdown",
      "metadata": {
        "id": "TDWu6nszQ6Z_"
      },
      "source": [
        "*LOJA 3*"
      ]
    },
    {
      "cell_type": "code",
      "execution_count": 24,
      "metadata": {
        "colab": {
          "base_uri": "https://localhost:8080/"
        },
        "id": "WjH1bbn2Q7OS",
        "outputId": "204bbed6-2e05-492b-82a5-910781938fdc"
      },
      "outputs": [
        {
          "name": "stdout",
          "output_type": "stream",
          "text": [
            "O produto mais vendido da loja3 foi: eletronicos na quantidade de: 547700\n",
            "O produto menos vendido da loja3 foi: livros na quantidade de: 12665\n"
          ]
        }
      ],
      "source": [
        "resultado_loja3 = analisar_vendas(vendas_por_categoria3, 'loja3')\n"
      ]
    },
    {
      "cell_type": "markdown",
      "metadata": {
        "id": "GXfayE_NQ8dz"
      },
      "source": [
        "*LOJA 4*"
      ]
    },
    {
      "cell_type": "code",
      "execution_count": 25,
      "metadata": {
        "colab": {
          "base_uri": "https://localhost:8080/"
        },
        "id": "1gMlAN5UQ87K",
        "outputId": "a19209cf-d685-454c-d781-18aa8c990ccd"
      },
      "outputs": [
        {
          "name": "stdout",
          "output_type": "stream",
          "text": [
            "O produto mais vendido da loja4 foi: eletronicos na quantidade de: 545967\n",
            "O produto menos vendido da loja4 foi: livros na quantidade de: 12428\n"
          ]
        }
      ],
      "source": [
        "resultado_loja4 = analisar_vendas(vendas_por_categoria4, 'loja4')"
      ]
    },
    {
      "cell_type": "markdown",
      "metadata": {
        "id": "Fl0cGi3bZKqU"
      },
      "source": [
        "# 5. Frete Médio por Loja\n"
      ]
    },
    {
      "cell_type": "code",
      "execution_count": 26,
      "metadata": {
        "colab": {
          "base_uri": "https://localhost:8080/"
        },
        "id": "E33VDv_rZOxB",
        "outputId": "ade145a2-7cef-4989-c020-19b80ce3aecc"
      },
      "outputs": [],
      "source": [
        "def analisar_frete(dados_frete, nome_da_loja):\n",
        "  \"\"\"\n",
        "  Calcula e imprime a média do frete para uma loja.\n",
        "\n",
        "  Args:\n",
        "      dados_frete (pandas.Series or list): Dados do frete (a coluna 'Frete' de um DataFrame).\n",
        "      nome_da_loja (str): O nome da loja para identificação na saída.\n",
        "\n",
        "  Returns:\n",
        "      float: A média calculada do frete.\n",
        "  \"\"\"\n",
        "\n",
        "  if len(dados_frete) == 0:\n",
        "    print(f\"Não há dados de frete para a {nome_da_loja}.\")\n",
        "    return 0.0\n",
        "\n",
        "  media_frete_loja = sum(dados_frete) / len(dados_frete)\n",
        "  print(f'A média do frete da {nome_da_loja} é: {media_frete_loja:.2f}')\n",
        "  return media_frete_loja\n"
      ]
    },
    {
      "cell_type": "code",
      "execution_count": 27,
      "metadata": {
        "colab": {
          "base_uri": "https://localhost:8080/"
        },
        "id": "dX2aFhpxXKK6",
        "outputId": "f21675ec-33c5-45d0-8ca3-af70862a34a5"
      },
      "outputs": [
        {
          "name": "stdout",
          "output_type": "stream",
          "text": [
            "A média do frete da loja1 é: 34.69\n",
            "34.6918049155114\n"
          ]
        }
      ],
      "source": [
        "frete1 = analisar_frete(loja1['Frete'], 'loja1')\n",
        "print(frete1)"
      ]
    },
    {
      "cell_type": "code",
      "execution_count": 28,
      "metadata": {
        "colab": {
          "base_uri": "https://localhost:8080/"
        },
        "id": "ZtIV2oqpaZn5",
        "outputId": "a87e9df2-018a-43dc-fab2-643c2199a4ba"
      },
      "outputs": [
        {
          "name": "stdout",
          "output_type": "stream",
          "text": [
            "A média do frete da loja2 é: 33.62\n"
          ]
        }
      ],
      "source": [
        "frete2 = analisar_frete(loja2['Frete'], 'loja2')"
      ]
    },
    {
      "cell_type": "code",
      "execution_count": 29,
      "metadata": {
        "colab": {
          "base_uri": "https://localhost:8080/"
        },
        "id": "JY_4bTcSaaJS",
        "outputId": "fb065da5-2c92-4ec3-d910-9b0d379f0752"
      },
      "outputs": [
        {
          "name": "stdout",
          "output_type": "stream",
          "text": [
            "A média do frete da loja3 é: 33.07\n"
          ]
        }
      ],
      "source": [
        "frete3 = analisar_frete(loja3['Frete'], 'loja3')"
      ]
    },
    {
      "cell_type": "code",
      "execution_count": 30,
      "metadata": {
        "colab": {
          "base_uri": "https://localhost:8080/"
        },
        "id": "Jl6mGJwOaamw",
        "outputId": "338d852d-f70b-47bb-84b1-f11bb8852234"
      },
      "outputs": [
        {
          "name": "stdout",
          "output_type": "stream",
          "text": [
            "A média do frete da loja4 é: 31.28\n"
          ]
        }
      ],
      "source": [
        "frete4 = analisar_frete(loja4['Frete'], 'loja4')"
      ]
    },
    {
      "cell_type": "code",
      "execution_count": null,
      "metadata": {
        "colab": {
          "base_uri": "https://localhost:8080/",
          "height": 488
        },
        "id": "U7GqqCDUcZ_a",
        "outputId": "60fe37e8-60ac-450f-bfc9-f4c051684981"
      },
      "outputs": [
        {
          "data": {
            "image/png": "[encoded data removed]",
            "text/plain": [
              "<Figure size 640x480 with 1 Axes>"
            ]
          },
          "metadata": {},
          "output_type": "display_data"
        }
      ],
      "source": [
        "\n",
        "import matplotlib.pyplot as plt\n",
        "medias_frete = [frete1, frete2, frete3, frete4]\n",
        "nomes_lojas_frete = ['loja1', 'loja2', 'loja3', 'loja4']\n",
        "\n",
        "\n",
        "for i in range(len(medias_frete) - 1):\n",
        "    plt.plot(nomes_lojas_frete[i:i + 2], medias_frete[i:i + 2], color=colors[i])\n",
        "\n",
        "plt.plot(nomes_lojas_frete, medias_frete, color= 'black', linestyle='--', linewidth=1, marker='o', markersize=5, markerfacecolor='black', markeredgecolor='black', markeredgewidth=1)  \n",
        "plt.xlabel('Lojas')\n",
        "plt.ylabel('Média de Frete (R$)')\n",
        "plt.title('Média de Frete por Loja')\n",
        "\n",
        "for i, media in enumerate(medias_frete):\n",
        "    plt.text(i, media + 0.5, f'R$ {media:.2f}', ha='center')\n",
        "\n",
        "plt.show()"
      ]
    }
  ],
  "metadata": {
    "colab": {
      "include_colab_link": true,
      "provenance": []
    },
    "kernelspec": {
      "display_name": "Python 3",
      "name": "python3"
    },
    "language_info": {
      "codemirror_mode": {
        "name": "ipython",
        "version": 3
      },
      "file_extension": ".py",
      "mimetype": "text/x-python",
      "name": "python",
      "nbconvert_exporter": "python",
      "pygments_lexer": "ipython3",
      "version": "3.10.12"
    }
  },
  "nbformat": 4,
  "nbformat_minor": 0
}

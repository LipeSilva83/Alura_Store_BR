{
  "cells": [
    {
      "cell_type": "markdown",
      "metadata": {
        "id": "RhEdWd9YUR6H"
      },
      "source": [
        "### Importação dos dados\n",
        "\n"
      ]
    },
    {
      "cell_type": "code",
      "execution_count": null,
      "metadata": {
        "colab": {
          "base_uri": "https://localhost:8080/",
          "height": 258
        },
        "id": "T3EvaeQ_INIL",
        "outputId": "d506bd80-5590-410f-957b-b8c0ef6ba6c3"
      },
      "outputs": [
        {
          "data": {
            "text/html": [
              "<div>\n",
              "<style scoped>\n",
              "    .dataframe tbody tr th:only-of-type {\n",
              "        vertical-align: middle;\n",
              "    }\n",
              "\n",
              "    .dataframe tbody tr th {\n",
              "        vertical-align: top;\n",
              "    }\n",
              "\n",
              "    .dataframe thead th {\n",
              "        text-align: right;\n",
              "    }\n",
              "</style>\n",
              "<table border=\"1\" class=\"dataframe\">\n",
              "  <thead>\n",
              "    <tr style=\"text-align: right;\">\n",
              "      <th></th>\n",
              "      <th>Produto</th>\n",
              "      <th>Categoria do Produto</th>\n",
              "      <th>Preço</th>\n",
              "      <th>Frete</th>\n",
              "      <th>Data da Compra</th>\n",
              "      <th>Vendedor</th>\n",
              "      <th>Local da compra</th>\n",
              "      <th>Avaliação da compra</th>\n",
              "      <th>Tipo de pagamento</th>\n",
              "      <th>Quantidade de parcelas</th>\n",
              "      <th>lat</th>\n",
              "      <th>lon</th>\n",
              "    </tr>\n",
              "  </thead>\n",
              "  <tbody>\n",
              "    <tr>\n",
              "      <th>0</th>\n",
              "      <td>Assistente virtual</td>\n",
              "      <td>eletronicos</td>\n",
              "      <td>219.08</td>\n",
              "      <td>9.249790</td>\n",
              "      <td>16/01/2021</td>\n",
              "      <td>Pedro Gomes</td>\n",
              "      <td>SP</td>\n",
              "      <td>4</td>\n",
              "      <td>cartao_credito</td>\n",
              "      <td>8</td>\n",
              "      <td>-22.19</td>\n",
              "      <td>-48.79</td>\n",
              "    </tr>\n",
              "    <tr>\n",
              "      <th>1</th>\n",
              "      <td>Mesa de jantar</td>\n",
              "      <td>moveis</td>\n",
              "      <td>256.35</td>\n",
              "      <td>11.234305</td>\n",
              "      <td>18/05/2022</td>\n",
              "      <td>Beatriz Moraes</td>\n",
              "      <td>RJ</td>\n",
              "      <td>1</td>\n",
              "      <td>cartao_credito</td>\n",
              "      <td>4</td>\n",
              "      <td>-22.25</td>\n",
              "      <td>-42.66</td>\n",
              "    </tr>\n",
              "    <tr>\n",
              "      <th>2</th>\n",
              "      <td>Jogo de tabuleiro</td>\n",
              "      <td>brinquedos</td>\n",
              "      <td>279.51</td>\n",
              "      <td>21.262681</td>\n",
              "      <td>15/03/2021</td>\n",
              "      <td>João Souza</td>\n",
              "      <td>DF</td>\n",
              "      <td>1</td>\n",
              "      <td>cartao_credito</td>\n",
              "      <td>1</td>\n",
              "      <td>-15.83</td>\n",
              "      <td>-47.86</td>\n",
              "    </tr>\n",
              "    <tr>\n",
              "      <th>3</th>\n",
              "      <td>Micro-ondas</td>\n",
              "      <td>eletrodomesticos</td>\n",
              "      <td>1009.99</td>\n",
              "      <td>54.667344</td>\n",
              "      <td>03/05/2022</td>\n",
              "      <td>João Souza</td>\n",
              "      <td>RS</td>\n",
              "      <td>4</td>\n",
              "      <td>boleto</td>\n",
              "      <td>1</td>\n",
              "      <td>-30.17</td>\n",
              "      <td>-53.50</td>\n",
              "    </tr>\n",
              "    <tr>\n",
              "      <th>4</th>\n",
              "      <td>Cadeira de escritório</td>\n",
              "      <td>moveis</td>\n",
              "      <td>446.99</td>\n",
              "      <td>26.964689</td>\n",
              "      <td>07/11/2020</td>\n",
              "      <td>Larissa Alves</td>\n",
              "      <td>MG</td>\n",
              "      <td>5</td>\n",
              "      <td>boleto</td>\n",
              "      <td>1</td>\n",
              "      <td>-18.10</td>\n",
              "      <td>-44.38</td>\n",
              "    </tr>\n",
              "  </tbody>\n",
              "</table>\n",
              "</div>"
            ],
            "text/plain": [
              "                 Produto Categoria do Produto    Preço      Frete  \\\n",
              "0     Assistente virtual          eletronicos   219.08   9.249790   \n",
              "1         Mesa de jantar               moveis   256.35  11.234305   \n",
              "2      Jogo de tabuleiro           brinquedos   279.51  21.262681   \n",
              "3            Micro-ondas     eletrodomesticos  1009.99  54.667344   \n",
              "4  Cadeira de escritório               moveis   446.99  26.964689   \n",
              "\n",
              "  Data da Compra        Vendedor Local da compra  Avaliação da compra  \\\n",
              "0     16/01/2021     Pedro Gomes              SP                    4   \n",
              "1     18/05/2022  Beatriz Moraes              RJ                    1   \n",
              "2     15/03/2021      João Souza              DF                    1   \n",
              "3     03/05/2022      João Souza              RS                    4   \n",
              "4     07/11/2020   Larissa Alves              MG                    5   \n",
              "\n",
              "  Tipo de pagamento  Quantidade de parcelas    lat    lon  \n",
              "0    cartao_credito                       8 -22.19 -48.79  \n",
              "1    cartao_credito                       4 -22.25 -42.66  \n",
              "2    cartao_credito                       1 -15.83 -47.86  \n",
              "3            boleto                       1 -30.17 -53.50  \n",
              "4            boleto                       1 -18.10 -44.38  "
            ]
          },
          "execution_count": 52,
          "metadata": {},
          "output_type": "execute_result"
        }
      ],
      "source": [
        "import pandas as pd\n",
        "\n",
        "url = \"https://raw.githubusercontent.com/alura-es-cursos/challenge1-data-science/refs/heads/main/base-de-dados-challenge-1/loja_1.csv\"\n",
        "url2 = \"https://raw.githubusercontent.com/alura-es-cursos/challenge1-data-science/refs/heads/main/base-de-dados-challenge-1/loja_2.csv\"\n",
        "url3 = \"https://raw.githubusercontent.com/alura-es-cursos/challenge1-data-science/refs/heads/main/base-de-dados-challenge-1/loja_3.csv\"\n",
        "url4 = \"https://raw.githubusercontent.com/alura-es-cursos/challenge1-data-science/refs/heads/main/base-de-dados-challenge-1/loja_4.csv\"\n",
        "\n",
        "loja1 = pd.read_csv(url)\n",
        "loja2 = pd.read_csv(url2)\n",
        "loja3 = pd.read_csv(url3)\n",
        "loja4 = pd.read_csv(url4)\n",
        "\n",
        "loja1.head()"
      ]
    },
    {
      "cell_type": "markdown",
      "metadata": {
        "id": "X62IW3KFUIYm"
      },
      "source": [
        "#1. Análise do faturamento\n"
      ]
    },
    {
      "cell_type": "code",
      "execution_count": null,
      "metadata": {
        "id": "xykobSftV64I"
      },
      "outputs": [],
      "source": [
        "faturamentos = {\n",
        "    'loja1': float(sum(loja1['Preço'])),\n",
        "    'loja2': float(sum(loja2['Preço'])),\n",
        "    'loja3': float(sum(loja3['Preço'])),\n",
        "    'loja4': float(sum(loja4['Preço'])),\n",
        "}\n",
        "\n",
        "for loja, faturamento in faturamentos.items():\n",
        "    print(f'{loja}: {faturamento:.2f}')\n",
        "\n"
      ]
    },
    {
      "cell_type": "code",
      "execution_count": null,
      "metadata": {
        "id": "6P_iehCq161v"
      },
      "outputs": [],
      "source": [
        "import matplotlib.pyplot as plt\n",
        "\n",
        "faturamentos = {\n",
        "    'loja1': 1534509.12,\n",
        "    'loja2': 1488459.06,\n",
        "    'loja3': 1464025.03,\n",
        "    'loja4': 1384497.58,\n",
        "}\n",
        "\n",
        "nomes_lojas = list(faturamentos.keys())\n",
        "valores_faturamento = list(faturamentos.values())\n",
        "cores = ['skyblue', 'lightcoral', 'lightgreen', 'lightsalmon']\n",
        "\n",
        "plt.figure(figsize=(8, 4))\n",
        "plt.pie(valores_faturamento, labels=nomes_lojas, autopct='%1.1f%%', startangle=140, colors=cores)\n",
        "\n",
        "plt.title('Faturamento Total por Loja')\n",
        "\n",
        "plt.show()"
      ]
    },
    {
      "cell_type": "code",
      "execution_count": null,
      "metadata": {
        "id": "dQ1uYSjCuacr"
      },
      "outputs": [],
      "source": [
        "maior_faturamento_loja = max(faturamentos.items(), key=lambda x: x[1])\n",
        "maior_faturamento = maior_faturamento_loja[1]\n",
        "nome_da_loja = maior_faturamento_loja[0]\n",
        "print(f'Maior faturamento foi de: {maior_faturamento:.2f} da {nome_da_loja}')"
      ]
    },
    {
      "cell_type": "code",
      "execution_count": null,
      "metadata": {
        "id": "KDyr8E71V3m-"
      },
      "outputs": [],
      "source": [
        "menor_faturamento_loja = min(faturamentos.items(), key=lambda x: x[1])\n",
        "menor_faturamento = menor_faturamento_loja[1]\n",
        "nome_da_loja = menor_faturamento_loja[0]\n",
        "print(f'Menor faturamento foi de: {menor_faturamento:.2f} da {nome_da_loja}')"
      ]
    },
    {
      "cell_type": "markdown",
      "metadata": {
        "id": "2V_vcAPzWZmR"
      },
      "source": [
        "# 2. Vendas por Categoria\n"
      ]
    },
    {
      "cell_type": "code",
      "execution_count": null,
      "metadata": {
        "id": "A34YupIuYhfF"
      },
      "outputs": [],
      "source": [
        "vendas_por_categoria1 = loja1.groupby('Categoria do Produto')['Preço'].sum()\n",
        "print(vendas_por_categoria1)"
      ]
    },
    {
      "cell_type": "code",
      "execution_count": null,
      "metadata": {
        "id": "yZR6cOjXYSk1"
      },
      "outputs": [],
      "source": [
        "vendas_por_categoria2 = loja2.groupby('Categoria do Produto')['Preço'].sum()\n",
        "print(vendas_por_categoria2)"
      ]
    },
    {
      "cell_type": "code",
      "execution_count": null,
      "metadata": {
        "id": "UFquMpIi78Vs"
      },
      "outputs": [],
      "source": [
        "vendas_por_categoria3 = loja3.groupby('Categoria do Produto')['Preço'].sum()\n",
        "print(vendas_por_categoria2)"
      ]
    },
    {
      "cell_type": "code",
      "execution_count": null,
      "metadata": {
        "id": "u017MY0y78ob"
      },
      "outputs": [],
      "source": [
        "vendas_por_categoria4 = loja4.groupby('Categoria do Produto')['Preço'].sum()\n",
        "print(vendas_por_categoria2)"
      ]
    },
    {
      "cell_type": "code",
      "execution_count": null,
      "metadata": {
        "id": "oTDgXsGqwpxX"
      },
      "outputs": [],
      "source": [
        "\n",
        "all_stores = pd.concat([loja1, loja2, loja3, loja4], ignore_index=True)\n",
        "\n",
        "vendas_por_categoria_total = all_stores.groupby('Categoria do Produto')['Preço'].sum()\n",
        "\n",
        "categoria_mais_vendida = vendas_por_categoria_total.idxmax()\n",
        "valor_mais_vendido = vendas_por_categoria_total.max()\n",
        "\n",
        "print(f'A categoria de produto mais vendida é: {categoria_mais_vendida}')\n",
        "print(f'Com um total de vendas de: {valor_mais_vendido:.2f}')\n",
        "\n",
        "\n",
        "print(\"\\nVendas totais por categoria:\")\n",
        "print(vendas_por_categoria_total.sort_values(ascending=False))\n"
      ]
    },
    {
      "cell_type": "markdown",
      "metadata": {
        "id": "Rq6tU_xSY3jk"
      },
      "source": [
        "# 3. Média de Avaliação das Lojas"
      ]
    },
    {
      "cell_type": "code",
      "execution_count": null,
      "metadata": {
        "id": "bh3jjjJwY5MU"
      },
      "outputs": [],
      "source": [
        "media_aval_loja1 = (sum(loja1['Avaliação da compra'])) / len(loja1['Avaliação da compra'])\n",
        "print(f'A média de avaliação da loja 1 é: {media_aval_loja1:.2f}')"
      ]
    },
    {
      "cell_type": "code",
      "execution_count": null,
      "metadata": {
        "id": "I0KkjPoTY88F"
      },
      "outputs": [],
      "source": [
        "media_aval_loja2 = (sum(loja2['Avaliação da compra'])) / len(loja2['Avaliação da compra'])\n",
        "print(f'A média de avaliação da loja 2 é: {media_aval_loja2:.2f}')"
      ]
    },
    {
      "cell_type": "code",
      "execution_count": null,
      "metadata": {
        "id": "WBfeHhu7ADq2"
      },
      "outputs": [],
      "source": [
        "media_aval_loja3 = (sum(loja3['Avaliação da compra'])) / len(loja3['Avaliação da compra'])\n",
        "print(f'A média de avaliação da loja 3 é: {media_aval_loja3:.2f}')"
      ]
    },
    {
      "cell_type": "code",
      "execution_count": null,
      "metadata": {
        "id": "jDpOUHt9ADPp"
      },
      "outputs": [],
      "source": [
        "media_aval_loja4 = (sum(loja4['Avaliação da compra'])) / len(loja4['Avaliação da compra'])\n",
        "print(f'A média de avaliação da loja 4 é: {media_aval_loja4:.2f}')"
      ]
    },
    {
      "cell_type": "code",
      "execution_count": null,
      "metadata": {
        "id": "1pOQThyPAwrv"
      },
      "outputs": [],
      "source": [
        "lista_medias = [media_aval_loja1, media_aval_loja2, media_aval_loja3, media_aval_loja4]\n",
        "lista_lojas = ['loja1', 'loja2', 'loja3', 'loja4']\n",
        "print(lista_lojas)\n",
        "print([f'{media:.2f}' for media in lista_medias])"
      ]
    },
    {
      "cell_type": "code",
      "execution_count": null,
      "metadata": {
        "id": "Ij1UUPuPBjmM"
      },
      "outputs": [],
      "source": [
        "lista_medias = [media_aval_loja1, media_aval_loja2, media_aval_loja3, media_aval_loja4]\n",
        "lista_lojas = ['loja1', 'loja2', 'loja3', 'loja4']\n",
        "\n",
        "import matplotlib.pyplot as plt\n",
        "plt.figure(figsize=(6, 3))\n",
        "plt.bar(lista_lojas, lista_medias, color=['blue', 'green', 'red', 'purple'])\n",
        "plt.xlabel('Lojas')\n",
        "plt.ylabel('Média de Avaliação')\n",
        "plt.title('Média de Avaliação por Loja')\n",
        "plt.ylim(0, 7)\n",
        "\n",
        "for i, media in enumerate(lista_medias):\n",
        "    plt.text(i, media + 0.1, f'{media:.2f}', ha='center')\n",
        "\n",
        "plt.show()"
      ]
    },
    {
      "cell_type": "markdown",
      "metadata": {
        "id": "DmNp1KPBZCm-"
      },
      "source": [
        "# 4. Produtos Mais e Menos Vendidos"
      ]
    },
    {
      "cell_type": "markdown",
      "metadata": {
        "id": "zc5JYi6-M_Uk"
      },
      "source": [
        "Função para calcular a venda por categoria"
      ]
    },
    {
      "cell_type": "code",
      "execution_count": null,
      "metadata": {
        "id": "qpN3WTVKMl5q"
      },
      "outputs": [],
      "source": [
        "def analisar_vendas(vendas_por_categoria, nome_loja):\n",
        "   \"\"\"\n",
        "    Analisa as vendas por categoria de uma loja para encontrar o produto mais e menos vendido.\n",
        "\n",
        "    Args:\n",
        "        vendas_por_categoria (dict): Um dicionário onde as chaves são os nomes dos produtos\n",
        "                                     e os valores são as quantidades vendidas.\n",
        "        nome_loja (str): O nome da loja para identificar na saída.\n",
        "\n",
        "    Returns:\n",
        "        tuple: Uma tupla contendo duas tuplas:\n",
        "               - A primeira tupla com o produto mais vendido e sua quantidade.\n",
        "               - A segunda tupla com o produto menos vendido e sua quantidade.\n",
        "    \"\"\"\n",
        "\n",
        "   if vendas_por_categoria.empty:\n",
        "    print(f\"Não há dados de vendas para a {nome_loja}.\")\n",
        "    return None, None\n",
        "\n",
        "   mais_vendido = max(vendas_por_categoria.items(), key=lambda x: x[1])\n",
        "   produto_mais_vendido = mais_vendido[0]\n",
        "   quantidade_mais_vendida = mais_vendido[1]\n",
        "\n",
        "   menos_vendido = min(vendas_por_categoria.items(), key=lambda x: x[1])\n",
        "   produto_menos_vendido = menos_vendido[0]\n",
        "   quantidade_menos_vendida = menos_vendido[1]\n",
        "\n",
        "   print(f'O produto mais vendido da {nome_loja} foi: {produto_mais_vendido} na quantidade de: {quantidade_mais_vendida:.0f}')\n",
        "   print(f'O produto menos vendido da {nome_loja} foi: {produto_menos_vendido} na quantidade de: {quantidade_menos_vendida:.0f}')\n",
        "\n",
        "   return (produto_mais_vendido, quantidade_mais_vendida), (produto_menos_vendido, quantidade_menos_vendida)"
      ]
    },
    {
      "cell_type": "markdown",
      "metadata": {
        "id": "P4klhLKRM8u0"
      },
      "source": [
        "*LOJA 1*"
      ]
    },
    {
      "cell_type": "code",
      "execution_count": null,
      "metadata": {
        "id": "J4211GdvMqdM"
      },
      "outputs": [],
      "source": [
        "resultado_loja1 = analisar_vendas(vendas_por_categoria1, 'loja1')\n"
      ]
    },
    {
      "cell_type": "markdown",
      "metadata": {
        "id": "R0hBiAkVOLDI"
      },
      "source": [
        "*LOJA 2*"
      ]
    },
    {
      "cell_type": "code",
      "execution_count": null,
      "metadata": {
        "id": "Tu-hlriuONo1"
      },
      "outputs": [],
      "source": [
        "resultado_loja2 = analisar_vendas(vendas_por_categoria2, 'loja2')\n"
      ]
    },
    {
      "cell_type": "markdown",
      "metadata": {
        "id": "TDWu6nszQ6Z_"
      },
      "source": [
        "*LOJA 3*"
      ]
    },
    {
      "cell_type": "code",
      "execution_count": null,
      "metadata": {
        "id": "WjH1bbn2Q7OS"
      },
      "outputs": [],
      "source": [
        "resultado_loja3 = analisar_vendas(vendas_por_categoria3, 'loja3')\n"
      ]
    },
    {
      "cell_type": "markdown",
      "metadata": {
        "id": "GXfayE_NQ8dz"
      },
      "source": [
        "*LOJA 4*"
      ]
    },
    {
      "cell_type": "code",
      "execution_count": null,
      "metadata": {
        "id": "1gMlAN5UQ87K"
      },
      "outputs": [],
      "source": [
        "resultado_loja4 = analisar_vendas(vendas_por_categoria4, 'loja4')"
      ]
    },
    {
      "cell_type": "markdown",
      "metadata": {
        "id": "Fl0cGi3bZKqU"
      },
      "source": [
        "# 5. Frete Médio por Loja\n"
      ]
    },
    {
      "cell_type": "code",
      "execution_count": null,
      "metadata": {
        "id": "E33VDv_rZOxB"
      },
      "outputs": [],
      "source": [
        "def analisar_frete(dados_frete, nome_da_loja):\n",
        "  \"\"\"\n",
        "  Calcula e imprime a média do frete para uma loja.\n",
        "\n",
        "  Args:\n",
        "      dados_frete (pandas.Series or list): Dados do frete (a coluna 'Frete' de um DataFrame).\n",
        "      nome_da_loja (str): O nome da loja para identificação na saída.\n",
        "\n",
        "  Returns:\n",
        "      float: A média calculada do frete.\n",
        "  \"\"\"\n",
        "\n",
        "  if len(dados_frete) == 0:\n",
        "    print(f\"Não há dados de frete para a {nome_da_loja}.\")\n",
        "    return 0.0\n",
        "\n",
        "  media_frete_loja = sum(dados_frete) / len(dados_frete)\n",
        "  print(f'A média do frete da {nome_da_loja} é: {media_frete_loja:.2f}')\n",
        "  return media_frete_loja\n"
      ]
    },
    {
      "cell_type": "code",
      "execution_count": null,
      "metadata": {
        "id": "dX2aFhpxXKK6"
      },
      "outputs": [],
      "source": [
        "frete1 = analisar_frete(loja1['Frete'], 'loja1')\n",
        "print(frete1)"
      ]
    },
    {
      "cell_type": "code",
      "execution_count": null,
      "metadata": {
        "id": "ZtIV2oqpaZn5"
      },
      "outputs": [],
      "source": [
        "frete2 = analisar_frete(loja2['Frete'], 'loja2')"
      ]
    },
    {
      "cell_type": "code",
      "execution_count": null,
      "metadata": {
        "id": "JY_4bTcSaaJS"
      },
      "outputs": [],
      "source": [
        "frete3 = analisar_frete(loja3['Frete'], 'loja3')"
      ]
    },
    {
      "cell_type": "code",
      "execution_count": null,
      "metadata": {
        "id": "Jl6mGJwOaamw"
      },
      "outputs": [],
      "source": [
        "frete4 = analisar_frete(loja4['Frete'], 'loja4')"
      ]
    },
    {
      "cell_type": "code",
      "execution_count": null,
      "metadata": {
        "id": "U7GqqCDUcZ_a"
      },
      "outputs": [],
      "source": [
        "\n",
        "import matplotlib.pyplot as plt\n",
        "medias_frete = [frete1, frete2, frete3, frete4]\n",
        "nomes_lojas_frete = ['loja1', 'loja2', 'loja3', 'loja4']\n",
        "\n",
        "colors = ['r', 'g', 'b', 'c']\n",
        "for i in range(len(medias_frete) - 1):\n",
        "    plt.plot(nomes_lojas_frete[i:i + 2], medias_frete[i:i + 2], color=colors[i])\n",
        "\n",
        "plt.plot(nomes_lojas_frete, medias_frete, color= 'black', linestyle='--', linewidth=1, marker='o', markersize=5, markerfacecolor='black', markeredgecolor='black', markeredgewidth=1)\n",
        "plt.xlabel('Lojas')\n",
        "plt.ylabel('Média de Frete (R$)')\n",
        "plt.title('Média de Frete por Loja')\n",
        "\n",
        "for i, media in enumerate(medias_frete):\n",
        "    plt.text(i, media + 0.5, f'R$ {media:.2f}', ha='center')\n",
        "\n",
        "plt.show()"
      ]
    },
    {
      "cell_type": "markdown",
      "metadata": {
        "id": "9dc8VHwmwpxZ"
      },
      "source": [
        "# **Análise de Desempenho por Região: Loja1**"
      ]
    },
    {
      "cell_type": "code",
      "execution_count": null,
      "metadata": {
        "id": "T1l563v7wpxc"
      },
      "outputs": [],
      "source": [
        "\n",
        "import pandas as pd\n",
        "import matplotlib.pyplot as plt\n",
        "import seaborn as sns\n",
        "\n",
        "plt.figure(figsize=(10, 6))\n",
        "sns.scatterplot(data=loja1, x='lon', y='lat', size='Preço', hue='Preço', palette='viridis', sizes=(20, 200))\n",
        "plt.title('Distribuição Geográfica das Vendas')\n",
        "plt.xlabel('Longitude')\n",
        "plt.ylabel('Latitude')\n",
        "plt.show()"
      ]
    },
    {
      "cell_type": "markdown",
      "metadata": {
        "id": "Rtc-JtWUwpxc"
      },
      "source": [
        "# **Análise de Desempenho por Região: Loja2**"
      ]
    },
    {
      "cell_type": "code",
      "execution_count": null,
      "metadata": {
        "id": "UJorcKsRwpxc"
      },
      "outputs": [],
      "source": [
        "plt.figure(figsize=(10, 6))\n",
        "sns.scatterplot(data=loja2, x='lon', y='lat', size='Preço', hue='Preço', palette='viridis', sizes=(20, 200))\n",
        "plt.title('Distribuição Geográfica das Vendas')\n",
        "plt.xlabel('Longitude')\n",
        "plt.ylabel('Latitude')\n",
        "plt.show()"
      ]
    },
    {
      "cell_type": "markdown",
      "metadata": {
        "id": "ZOGfWEutwpxc"
      },
      "source": [
        "# **Análise de Desempenho por Região: Loja3**"
      ]
    },
    {
      "cell_type": "code",
      "execution_count": null,
      "metadata": {
        "id": "dLKXRNiTwpxc"
      },
      "outputs": [],
      "source": [
        "plt.figure(figsize=(10, 6))\n",
        "sns.scatterplot(data=loja3, x='lon', y='lat', size='Preço', hue='Preço', palette='viridis', sizes=(20, 200))\n",
        "plt.title('Distribuição Geográfica das Vendas')\n",
        "plt.xlabel('Longitude')\n",
        "plt.ylabel('Latitude')\n",
        "plt.show()"
      ]
    },
    {
      "cell_type": "markdown",
      "metadata": {
        "id": "3rH06pegwpxc"
      },
      "source": [
        "# **Análise de Desempenho por Região: Loja4**"
      ]
    },
    {
      "cell_type": "code",
      "execution_count": null,
      "metadata": {
        "id": "IXILAWTPwpxd",
        "outputId": "38d17de7-9d91-4fc9-8557-59326de48b56"
      },
      "outputs": [
        {
          "data": {
            "image/png": "[encoded data removed]",
            "text/plain": [
              "<Figure size 1000x600 with 1 Axes>"
            ]
          },
          "metadata": {},
          "output_type": "display_data"
        }
      ],
      "source": [
        "plt.figure(figsize=(10, 6))\n",
        "sns.scatterplot(data=loja4, x='lon', y='lat', size='Preço', hue='Preço', palette='viridis', sizes=(20, 200))\n",
        "plt.title('Distribuição Geográfica das Vendas')\n",
        "plt.xlabel('Longitude')\n",
        "plt.ylabel('Latitude')\n",
        "plt.show()"
      ]
    },
    {
      "cell_type": "markdown",
      "source": [
        "  # Relatório de Análise de Desempenho das Lojas AluraStore BR\n",
        "\n",
        "Introdução\n",
        "\n",
        "Este relatório tem como objetivo apresentar uma análise comparativa do desempenho de quatro lojas da AluraStore BR, com o intuito de embasar a decisão do Sr. João identificando qual loja pode ser considerada para venda. A análise foi realizada utilizando dados de vendas, avaliações de clientes, produtos mais e menos vendidos, e frete médio. loja que apresenta o menor desempenho relativo e, portanto, pode ser considerada para venda. A análise foi realizada com base nos dados fornecidos nos arquivos de cada loja, considerando os seguintes critérios: faturamento total, categorias de produtos mais e menos vendidas, média das avaliações de clientes, produtos mais e menos vendidos e frete médio.\n",
        "\n",
        "Desenvolvimento\n",
        "\n",
        "Faturamento Total\n",
        "\n",
        "O faturamento total de cada loja foi calculado somando os preços de todos os produtos vendidos em cada uma delas. Os resultados são apresentados na tabela abaixo:\n",
        "\n",
        "Loja\tFaturamento Total (R$)\n",
        "Loja 1\t1.534.509,12\n",
        "Loja 2\t1.488.459,06\n",
        "Loja 3\t1.464.025,03\n",
        "Loja 4\t1.384.497,58\n",
        "A Loja 4 apresenta o menor faturamento total entre todas as lojas, indicando um desempenho inferior em termos de geração de receita.\n",
        "\n",
        "Frete Médio\n",
        "\n",
        "A média do frete de cada loja foi calculada a partir dos dados de frete de cada transação. Os resultados são apresentados na tabela abaixo:\n",
        "\n",
        "Loja\tFrete Médio (R$)\n",
        "Loja 1\t29,67\n",
        "Loja 2\t29,85\n",
        "Loja 3\t29,78\n",
        "Loja 4\t42,11\n",
        "A Loja 4 apresenta o maior frete médio entre todas as lojas. Um frete médio elevado pode impactar negativamente a competitividade da loja, tornando seus produtos menos atraentes para os clientes.\n",
        "\n",
        "Produtos Mais e Menos Vendidos\n",
        "\n",
        "A análise dos produtos mais e menos vendidos revelou um padrão consistente entre todas as lojas:\n",
        "\n",
        "Produto Mais Vendido: Eletrônicos Produto Menos Vendido: Livros As quantidades vendidas de cada categoria em cada loja são apresentadas na tabela abaixo:\n",
        "\n",
        "Loja\tProduto Mais Vendido (Eletrônicos)\tProduto Menos Vendido (Livros)\n",
        "Loja 1\t572.659\t11.714\n",
        "Loja 2\t547.774\t13.454\n",
        "Loja 3\t547.700\t12.665\n",
        "Loja 4\t545.967\t12.428\n",
        "Não há diferenças significativas entre as lojas nesse quesito, indicando que o desempenho em relação aos produtos mais e menos vendidos é semelhante em todas elas.\n",
        "\n",
        "Avaliação dos Clientes\n",
        "\n",
        "A média das avaliações dos clientes por loja foi calculada e apresentada no gráfico abaixo(\"media_avaliacao.png\").\n",
        "\n",
        "Media de avaliação das lojas\n",
        "\n",
        "A Loja 4 apresenta a menor média de avaliação dos clientes em comparação com as lojas 2 e 3, indicando um menor nível de satisfação dos clientes.\n",
        "\n",
        "Análise Geral das Categorias de Produtos\n",
        "\n",
        "Foi realizada uma análise geral das categorias de produtos vendidas em todas as lojas, resultando nos seguintes dados:\n",
        "\n",
        "Categoria de Produto Mais Vendida: Eletrônicos (2.214.099,72)\n",
        "\n",
        "Vendas Totais por Categoria:\n",
        "\n",
        "Categoria do Produto\tVendas Totais (R$)\n",
        "eletronicos\t2.214.099,72\n",
        "eletrodomesticos\t1.766.337,03\n",
        "moveis\t1.010.214,00\n",
        "instrumentos musicais\t465.029,67\n",
        "esporte e lazer\t190.635,39\n",
        "brinquedos\t98.140,86\n",
        "utilidades domesticas\t76.773,38\n",
        "livros\t50.260,74\n",
        "Essa análise mostra a importância da categoria de eletrônicos para o faturamento total das lojas, enquanto a categoria de livros apresenta o menor desempenho em termos de vendas.\n",
        "\n",
        "Conclusão\n",
        "\n",
        "Com base nos dados analisados, a Loja 4 se destaca como a loja de menor desempenho relativo. Os principais fatores que corroboram essa conclusão são:\n",
        "\n",
        "Menor Faturamento Total: A Loja 4 apresenta o menor faturamento total entre todas as lojas, indicando uma menor capacidade de gerar receita. Maior Frete Médio: A Loja 4 possui o maior frete médio, o que pode afastar clientes e prejudicar a competitividade da loja. Padrão Semelhante de Produtos Mais e Menos Vendidos: A análise dos produtos mais e menos vendidos não revela diferenças significativas entre as lojas, o que sugere que a Loja 4 não possui um desempenho atípico nesse aspecto. Menor Média de Avaliação dos Clientes: A Loja 4 apresenta a menor média de avaliação dos clientes, indicando um menor nível de satisfação dos clientes em relação à experiência de compra. A inclusão da análise geral das categorias de produtos reforça o contexto geral do desempenho das lojas, mostrando a importância da categoria de eletrônicos e o baixo desempenho da categoria de livros em todas elas. No entanto, esses dados não alteram a conclusão de que a Loja 4 é a mais indicada para possível venda, devido aos seus problemas específicos de faturamento, frete e satisfação do cliente."
      ],
      "metadata": {
        "id": "iPjZv3UVwzzq"
      }
    },
    {
      "cell_type": "markdown",
      "source": [],
      "metadata": {
        "id": "4edSHbNewwOR"
      }
    }
  ],
  "metadata": {
    "colab": {
      "provenance": []
    },
    "kernelspec": {
      "display_name": "Python 3",
      "name": "python3"
    },
    "language_info": {
      "codemirror_mode": {
        "name": "ipython",
        "version": 3
      },
      "file_extension": ".py",
      "mimetype": "text/x-python",
      "name": "python",
      "nbconvert_exporter": "python",
      "pygments_lexer": "ipython3",
      "version": "3.10.12"
    }
  },
  "nbformat": 4,
  "nbformat_minor": 0
}